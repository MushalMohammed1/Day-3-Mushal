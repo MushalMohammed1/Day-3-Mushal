{
 "cells": [
  {
   "cell_type": "markdown",
   "metadata": {},
   "source": [
    "# Python_Lab_1.2"
   ]
  },
  {
   "cell_type": "markdown",
   "metadata": {},
   "source": [
    "### Task 1: \n",
    "1. Create a tuple with the following details:\n",
    "    - Your favorite movie (string)\n",
    "    - The year it was released (integer)\n",
    "    - Its rating out of 10 (float)\n",
    "    - Whether you have watched it (boolean)\n",
    "2. Print the detailes"
   ]
  },
  {
   "cell_type": "code",
   "execution_count": 1,
   "metadata": {},
   "outputs": [
    {
     "name": "stdout",
     "output_type": "stream",
     "text": [
      "Favorite Movie Details:\n",
      "Name: SpiderMan\n",
      "Year Released: 2010\n",
      "Rating out of 10: 9\n",
      "Have you watched it? True\n"
     ]
    }
   ],
   "source": [
    "# Create a tuple with the movie details\n",
    "favorite_movie = (\"SpiderMan\", 2010, 9, True)\n",
    "\n",
    "# Print the details\n",
    "print(\"Favorite Movie Details:\")\n",
    "print(\"Name:\", favorite_movie[0])\n",
    "print(\"Year Released:\", favorite_movie[1])\n",
    "print(\"Rating out of 10:\", favorite_movie[2])\n",
    "print(\"Have you watched it?\", favorite_movie[3])\n"
   ]
  },
  {
   "cell_type": "markdown",
   "metadata": {},
   "source": [
    "### Task 2:\n",
    "1. Create a set of 5 favorite colors.\n",
    "2. Print all the colors"
   ]
  },
  {
   "cell_type": "code",
   "execution_count": 3,
   "metadata": {},
   "outputs": [
    {
     "name": "stdout",
     "output_type": "stream",
     "text": [
      "Blue\n",
      "Yellow\n",
      "Red\n",
      "Green\n",
      "Purple\n"
     ]
    }
   ],
   "source": [
    "# Create a set of favorite colors\n",
    "favorite_colors = {\"Blue\", \"Red\", \"Green\", \"Yellow\", \"Purple\"}\n",
    "\n",
    "# Print all the colors\n",
    "for color in favorite_colors:\n",
    "    print(color)\n"
   ]
  },
  {
   "cell_type": "markdown",
   "metadata": {},
   "source": [
    "### Task 3:\n",
    "1. Create a dictionary to store information about 3 friends (name as key and a tuple with age and favorite hobby as value).\n",
    "2. Print the details of all friends."
   ]
  },
  {
   "cell_type": "code",
   "execution_count": 4,
   "metadata": {},
   "outputs": [
    {
     "name": "stdout",
     "output_type": "stream",
     "text": [
      "Friends' Details:\n",
      "Name: Ali, Age: 22, Favorite Hobby: Reading\n",
      "Name: Omar, Age: 24, Favorite Hobby: Cycling\n",
      "Name: Fahad, Age: 26, Favorite Hobby: Gaming\n"
     ]
    }
   ],
   "source": [
    "# Create a dictionary to store friends' information\n",
    "friends = {\n",
    "    \"Ali\": (22, \"Reading\"),\n",
    "    \"Omar\": (24, \"Cycling\"),\n",
    "    \"Fahad\": (26, \"Gaming\")\n",
    "}\n",
    "\n",
    "# Print the details of all friends\n",
    "print(\"Friends' Details:\")\n",
    "for name, details in friends.items():\n",
    "    print(f\"Name: {name}, Age: {details[0]}, Favorite Hobby: {details[1]}\")\n"
   ]
  },
  {
   "cell_type": "markdown",
   "metadata": {},
   "source": [
    "### Task 4:\n",
    "1. Check if you have watched the movie and print an appropriate message.\n",
    "1. Check if a specific color is in your favorite colors set and print its availability status."
   ]
  },
  {
   "cell_type": "code",
   "execution_count": 5,
   "metadata": {},
   "outputs": [
    {
     "name": "stdout",
     "output_type": "stream",
     "text": [
      "You have watched the movie.\n",
      "The color blue is in your favorite colors!\n"
     ]
    }
   ],
   "source": [
    "# Check if you have watched the movie\n",
    "watched_movie = True  # Change this to False if you haven't watched it\n",
    "\n",
    "if watched_movie:\n",
    "    print(\"You have watched the movie.\")\n",
    "else:\n",
    "    print(\"You haven't watched the movie yet.\")\n",
    "\n",
    "# Check if a specific color is in your favorite colors set\n",
    "favorite_colors = {\"red\", \"blue\", \"green\", \"yellow\"}  # Example set of favorite colors\n",
    "color_to_check = \"blue\"  # Change this to any color you'd like to check\n",
    "\n",
    "if color_to_check in favorite_colors:\n",
    "    print(f\"The color {color_to_check} is in your favorite colors!\")\n",
    "else:\n",
    "    print(f\"The color {color_to_check} is not in your favorite colors.\")\n"
   ]
  },
  {
   "cell_type": "markdown",
   "metadata": {},
   "source": []
  }
 ],
 "metadata": {
  "kernelspec": {
   "display_name": "Python 3",
   "language": "python",
   "name": "python3"
  },
  "language_info": {
   "codemirror_mode": {
    "name": "ipython",
    "version": 3
   },
   "file_extension": ".py",
   "mimetype": "text/x-python",
   "name": "python",
   "nbconvert_exporter": "python",
   "pygments_lexer": "ipython3",
   "version": "3.11.1"
  }
 },
 "nbformat": 4,
 "nbformat_minor": 2
}
