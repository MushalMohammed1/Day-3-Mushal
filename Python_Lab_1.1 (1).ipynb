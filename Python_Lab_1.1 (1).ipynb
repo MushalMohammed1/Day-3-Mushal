{
 "cells": [
  {
   "cell_type": "markdown",
   "metadata": {},
   "source": [
    "# Python_Lab_1.1\n"
   ]
  },
  {
   "cell_type": "markdown",
   "metadata": {},
   "source": [
    "### Task 1\n",
    "1. Print a welcome message.\n",
    "2. Create variables to store the following details:\n",
    "    - Your name (string)\n",
    "    - Your age (integer)\n",
    "    - Your height (float)\n",
    "    - Whether you are a student (boolean)\n",
    "3. Print these details.\n"
   ]
  },
  {
   "cell_type": "code",
   "execution_count": 1,
   "metadata": {},
   "outputs": [
    {
     "name": "stdout",
     "output_type": "stream",
     "text": [
      "Welcome to the Python program!\n",
      "Name: Mushal Alshagha\n",
      "Age: 21\n",
      "Height: 169 cm\n",
      "Student: True\n"
     ]
    }
   ],
   "source": [
    "# Task 1: Welcome Message and Variables\n",
    "\n",
    "# Print a welcome message\n",
    "print(\"Welcome to the Python program!\")\n",
    "\n",
    "# Variables to store details\n",
    "name = \"Mushal Alshagha\"  \n",
    "age = 21  \n",
    "height = 169 \n",
    "is_student = True  \n",
    "\n",
    "# Print the details\n",
    "print(\"Name:\", name)\n",
    "print(\"Age:\", age)\n",
    "print(\"Height:\", height, \"cm\")\n",
    "print(\"Student:\", is_student)\n"
   ]
  },
  {
   "cell_type": "markdown",
   "metadata": {},
   "source": [
    "### Task 2\n",
    " 1. Create a list of 5 favorite fruits.\n",
    " 2. Create a list with the price of each fruit.\n",
    " 3. Print the data types of these lists."
   ]
  },
  {
   "cell_type": "code",
   "execution_count": 1,
   "metadata": {},
   "outputs": [
    {
     "name": "stdout",
     "output_type": "stream",
     "text": [
      "Data type of favorite_fruits: <class 'list'>\n",
      "Data type of fruit_prices: <class 'list'>\n"
     ]
    }
   ],
   "source": [
    "# Task 2: Favorite Fruits and Prices\n",
    "\n",
    "# List of 5 favorite fruits\n",
    "favorite_fruits = [\"Apple\", \"Banana\", \"Mango\", \"Strawberry\", \"Orange\"]\n",
    "\n",
    "# List with the price of each fruit\n",
    "fruit_prices = [10.5, 12.2, 22.8, 43.0, 29.5]  \n",
    "\n",
    "# Print the data types of the lists\n",
    "print(\"Data type of favorite_fruits:\", type(favorite_fruits))\n",
    "print(\"Data type of fruit_prices:\", type(fruit_prices))\n"
   ]
  },
  {
   "cell_type": "markdown",
   "metadata": {},
   "source": [
    "### Task 3\n",
    "1. Print the names of all fruits using a loop.\n",
    "2. Using a while loop and input built-in function, do the following:\n",
    "    - Ask the the user : \"what is the product of 7 * 24 ?\"\n",
    "    - check if the answer is right then exit the loop and print \"You answered this Question correctly\".\n",
    "    - if the answer is wrong, then print \"Your Answer is wrong try again..\" and show the user the question again.\n",
    "3. Build a program that takes one defined variable of type int, then it prints out the result formatted like the following pattern (if we give it 5 for example):\n",
    "\n",
    "    5 4 3 2 1\n",
    "\n",
    "    4 3 2 1\n",
    "\n",
    "    3 2 1\n",
    "\n",
    "    2 1\n",
    "    \n",
    "    1"
   ]
  },
  {
   "cell_type": "code",
   "execution_count": 2,
   "metadata": {},
   "outputs": [
    {
     "name": "stdout",
     "output_type": "stream",
     "text": [
      "Apple\n",
      "Banana\n",
      "Mango\n",
      "Strawberry\n",
      "Orange\n"
     ]
    }
   ],
   "source": [
    "# List of favorite fruits\n",
    "favorite_fruits = [\"Apple\", \"Banana\", \"Mango\", \"Strawberry\", \"Orange\"]\n",
    "\n",
    "# Loop through the list and print each fruit\n",
    "for fruit in favorite_fruits:\n",
    "    print(fruit)\n",
    "\n"
   ]
  },
  {
   "cell_type": "code",
   "execution_count": 5,
   "metadata": {},
   "outputs": [
    {
     "name": "stdout",
     "output_type": "stream",
     "text": [
      "Your answer is wrong. Try again..\n",
      "You answered this question correctly.\n"
     ]
    }
   ],
   "source": [
    "# While loop to ask the multiplication question\n",
    "while True:\n",
    "    answer = int(input(\"What is the product of 7 * 24? \"))\n",
    "    if answer == 168:\n",
    "        print(\"You answered this question correctly.\")\n",
    "        break\n",
    "    else:\n",
    "        print(\"Your answer is wrong. Try again..\")\n"
   ]
  },
  {
   "cell_type": "code",
   "execution_count": 6,
   "metadata": {},
   "outputs": [
    {
     "name": "stdout",
     "output_type": "stream",
     "text": [
      "5 4 3 2 1 \n",
      "4 3 2 1 \n",
      "3 2 1 \n",
      "2 1 \n",
      "1 \n"
     ]
    }
   ],
   "source": [
    "# Take an integer input\n",
    "num = int(input(\"Enter a number: \"))\n",
    "\n",
    "# Loop to print the pattern\n",
    "for i in range(num, 0, -1):\n",
    "    for j in range(i, 0, -1):\n",
    "        print(j, end=\" \")\n",
    "    print()  # Move to the next line\n"
   ]
  },
  {
   "cell_type": "markdown",
   "metadata": {},
   "source": [
    "### Task 4\n",
    "You want to recommend a movie to a friend based on the rating and popularity. To accomplish this do the following:\n",
    "\n",
    "- Create a variable for the movie (choose any movie you like).\n",
    "- Create a variable of type int to hold the rating of the movie out of 5. Give this movie rate = 3\n",
    "- Create a popularity score of type float, let it be 72.65\n",
    "- Using an if statement:\n",
    "    - Check if the movie rating is 4 or greater and the popularity is greater than 80, print \"Highly recommended\".\n",
    "    - Else if the movie rating is 3 or greater and the popularity is greater than 70, print \"I recommended it, It is good\".\n",
    "    - Else if the movie rating is 2 or less and the popularity is greater than 60, print \"You should check it out!\".\n",
    "    - Else the movie rating is 2 or less and the popularity is less than 50, print \"Don't watch it, It is a waste of time\"."
   ]
  },
  {
   "cell_type": "code",
   "execution_count": 7,
   "metadata": {},
   "outputs": [
    {
     "name": "stdout",
     "output_type": "stream",
     "text": [
      "I recommended it, It is good\n"
     ]
    }
   ],
   "source": [
    "# Create variables for the movie, rating, and popularity\n",
    "movie = \"SpiderMan\"  \n",
    "rating = 3  # Rating out of 5\n",
    "popularity = 77.65  \n",
    "\n",
    "# Use if-elif-else to recommend the movie based on rating and popularity\n",
    "if rating >= 4 and popularity > 80:\n",
    "    print(\"Highly recommended\")\n",
    "elif rating >= 3 and popularity > 70:\n",
    "    print(\"I recommended it, It is good\")\n",
    "elif rating <= 2 and popularity > 60:\n",
    "    print(\"You should check it out!\")\n",
    "else:\n",
    "    print(\"Don't watch it, It is a waste of time\")\n"
   ]
  }
 ],
 "metadata": {
  "kernelspec": {
   "display_name": "Python 3",
   "language": "python",
   "name": "python3"
  },
  "language_info": {
   "codemirror_mode": {
    "name": "ipython",
    "version": 3
   },
   "file_extension": ".py",
   "mimetype": "text/x-python",
   "name": "python",
   "nbconvert_exporter": "python",
   "pygments_lexer": "ipython3",
   "version": "3.11.1"
  }
 },
 "nbformat": 4,
 "nbformat_minor": 2
}
